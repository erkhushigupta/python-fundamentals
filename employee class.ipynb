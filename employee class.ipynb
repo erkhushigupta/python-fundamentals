{
 "cells": [
  {
   "cell_type": "code",
   "execution_count": null,
   "metadata": {},
   "outputs": [],
   "source": [
    "#Write a class called Employee. The __init__() method should take in a first name, a last name, and an annual salary, and store each of \n",
    "# these as attributes. Write a method called give_raise() that adds $5000 to the annual salary by default but also accepts a different\n",
    "# raise amount.Write a test case for Employee. Write two test methods, test_give_default_raise() and test_give_custom_raise().\n",
    "#  Use the setUp() method so you don't have to create a new employee instance in each test method. Run your test case, and make sure both\n",
    "#  tests pass.\n",
    "\n",
    "\n",
    "#implementation of the Employee class and the test case using the unittest framework in Python\n",
    "import unittest\n",
    "\n",
    "class Employee:\n",
    "    def __init__(self, first_name, last_name, annual_salary):\n",
    "        self.first_name = first_name\n",
    "        self.last_name = last_name\n",
    "        self.annual_salary = annual_salary\n",
    "\n",
    "    def give_raise(self, raise_amount=5000):\n",
    "        self.annual_salary += raise_amount\n",
    "\n",
    "class TestEmployee(unittest.TestCase):\n",
    "    def setUp(self):\n",
    "        self.employee = Employee(\"John\", \"Doe\", 50000)\n",
    "\n",
    "    def test_give_default_raise(self):\n",
    "        self.employee.give_raise()\n",
    "        self.assertEqual(self.employee.annual_salary, 55000)\n",
    "\n",
    "    def test_give_custom_raise(self):\n",
    "        self.employee.give_raise(10000)\n",
    "        self.assertEqual(self.employee.annual_salary, 60000)\n",
    "\n",
    "if __name__ == \"__main__\":\n",
    "    unittest.main()\n",
    "\n",
    "\n",
    "#In this code, we define the Employee class with an __init__() method to initialize the first name,\n",
    "#last name, and annual salary attributes. Additionally, there's a give_raise() method that can add a default raise of \n",
    "# $5000 to the annual salary or a custom raise amount if provided.\n",
    "\n",
    "#Then, we create a test case class TestEmployee that inherits from unittest.TestCase.\n",
    "#  The setUp() method is used to create an instance of Employee so that we can reuse it in both test methods. \n",
    "# The two test methods test_give_default_raise() and test_give_custom_raise() check whether the give_raise() \n",
    "# method works as expected for default and custom raise amounts, respectively.\n",
    "\n",
    "#Finally, we run the test case using unittest.main() which automatically discovers and runs\n",
    "#all the test methods in the test case. If both tests pass successfully, you will see an output indicating that both tests were OK."
   ]
  }
 ],
 "metadata": {
  "language_info": {
   "name": "python"
  },
  "orig_nbformat": 4
 },
 "nbformat": 4,
 "nbformat_minor": 2
}
