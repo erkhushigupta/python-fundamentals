{
  "nbformat": 4,
  "nbformat_minor": 0,
  "metadata": {
    "colab": {
      "provenance": [],
      "collapsed_sections": [
        "XbeDUzMtdP1r",
        "aIaDo3SydO_b",
        "ENqN7ptpeXDN",
        "Mmv1vDL7eh50",
        "vgBXGp3rkcCL",
        "jZ9Zu3lPz_Jk",
        "8HClh5AN1QWV",
        "PFlmp3Rd1RBa",
        "iwKujTb65NYT"
      ]
    },
    "kernelspec": {
      "name": "python3",
      "display_name": "Python 3"
    },
    "language_info": {
      "name": "python"
    }
  },
  "cells": [
    {
      "cell_type": "markdown",
      "source": [
        "# Function with no argument and no return type"
      ],
      "metadata": {
        "id": "XbeDUzMtdP1r"
      }
    },
    {
      "cell_type": "code",
      "execution_count": null,
      "metadata": {
        "colab": {
          "base_uri": "https://localhost:8080/"
        },
        "id": "OWHysYz3wvHg",
        "outputId": "5c544b6c-4ba1-42c2-da2b-66b159d95708"
      },
      "outputs": [
        {
          "output_type": "stream",
          "name": "stdout",
          "text": [
            "Hello, world!\n"
          ]
        }
      ],
      "source": [
        "\n",
        "def greet():\n",
        "    print(\"Hello, world!\")\n",
        "\n",
        "# Calling the function\n",
        "greet()\n"
      ]
    },
    {
      "cell_type": "code",
      "source": [
        "import random\n",
        "#module for generating random numbers\n",
        "\n",
        "def generate_lottery_numbers():\n",
        "    numbers = random.sample(range(1, 50), 6)\n",
        "    #randomly returns a set of 6 random numbers in the given range\n",
        "    numbers.sort()\n",
        "    print(\"Lottery Numbers:\", numbers)\n",
        "\n",
        "# Calling the function\n",
        "generate_lottery_numbers()\n"
      ],
      "metadata": {
        "colab": {
          "base_uri": "https://localhost:8080/"
        },
        "id": "8Lt3nU4aqL0g",
        "outputId": "68719aca-4a54-42d4-9180-85b1f82efea2"
      },
      "execution_count": null,
      "outputs": [
        {
          "output_type": "stream",
          "name": "stdout",
          "text": [
            "Lottery Numbers: [1, 9, 25, 38, 43, 46]\n"
          ]
        }
      ]
    },
    {
      "cell_type": "markdown",
      "source": [
        "#Function with argument but no return type\n"
      ],
      "metadata": {
        "id": "aIaDo3SydO_b"
      }
    },
    {
      "cell_type": "code",
      "source": [
        "#function to check if a year is leap year or not\n",
        "def leap_year(year):\n",
        "  if (year%4==0)and(year%100!=0 or year%400==0)==1:#condition for determining leap year\n",
        "    print(year ,' is a leap year')\n",
        "  else:\n",
        "    print(year ,' is not a leap year')\n",
        "\n",
        "#calling the function\n",
        "leap_year(2013)\n",
        "leap_year(2023)"
      ],
      "metadata": {
        "colab": {
          "base_uri": "https://localhost:8080/"
        },
        "id": "3-BLQEcJeA8l",
        "outputId": "1627abbb-c6b4-4841-813a-1e6f1d9b7e84"
      },
      "execution_count": null,
      "outputs": [
        {
          "output_type": "stream",
          "name": "stdout",
          "text": [
            "2013  is not a leap year\n",
            "2023  is not a leap year\n"
          ]
        }
      ]
    },
    {
      "cell_type": "code",
      "source": [
        "#function to calculate the factorial of a number\n",
        "def calculate_factorial(n):\n",
        "    factorial = 1\n",
        "    for i in range(1, n + 1): #iterate from 1 to n\n",
        "        factorial *= i\n",
        "    print(\"The factorial of\", n, \"is:\", factorial)\n",
        "\n",
        "# Calling the function\n",
        "calculate_factorial(7)\n"
      ],
      "metadata": {
        "colab": {
          "base_uri": "https://localhost:8080/"
        },
        "id": "1haUrqgJrkHz",
        "outputId": "8c06c3e2-d37d-48bd-9f1b-ecdd825a143c"
      },
      "execution_count": null,
      "outputs": [
        {
          "output_type": "stream",
          "name": "stdout",
          "text": [
            "The factorial of 7 is: 5040\n"
          ]
        }
      ]
    },
    {
      "cell_type": "markdown",
      "source": [
        "#Function with argument and with return type"
      ],
      "metadata": {
        "id": "ENqN7ptpeXDN"
      }
    },
    {
      "cell_type": "code",
      "source": [
        "#function to find the square of a number\n",
        "def square(num):\n",
        "    return num * num\n",
        "\n",
        "# Calling the function\n",
        "result = square(5)\n",
        "print(result)\n"
      ],
      "metadata": {
        "colab": {
          "base_uri": "https://localhost:8080/"
        },
        "id": "_Jk91ZcxeS99",
        "outputId": "f8706966-526a-4496-9a8a-3feec464033c"
      },
      "execution_count": null,
      "outputs": [
        {
          "output_type": "stream",
          "name": "stdout",
          "text": [
            "25\n"
          ]
        }
      ]
    },
    {
      "cell_type": "code",
      "source": [
        "#function to find the maximum of a set of numbers in a list\n",
        "def find_maximum(numbers):\n",
        "    if len(numbers) == 0:#empty list\n",
        "        return None\n",
        "\n",
        "    maximum = numbers[0]\n",
        "    for num in numbers:\n",
        "        if num > maximum:\n",
        "            maximum = num\n",
        "\n",
        "    return maximum\n",
        "\n",
        "# Calling the function\n",
        "numbers_list = [4, 9, 2, 7, 5]\n",
        "max_num = find_maximum(numbers_list)\n",
        "print(\"Maximum number:\", max_num)\n"
      ],
      "metadata": {
        "colab": {
          "base_uri": "https://localhost:8080/"
        },
        "id": "oQp1NWtNtIOk",
        "outputId": "cfb1184e-45f6-418e-fb21-a05a9f805d48"
      },
      "execution_count": null,
      "outputs": [
        {
          "output_type": "stream",
          "name": "stdout",
          "text": [
            "Maximum number: 9\n"
          ]
        }
      ]
    },
    {
      "cell_type": "markdown",
      "source": [
        "#Function with no argument but a return type"
      ],
      "metadata": {
        "id": "Mmv1vDL7eh50"
      }
    },
    {
      "cell_type": "code",
      "source": [
        "#function to return the current date and time\n",
        "def get_current_time():\n",
        "    import datetime\n",
        "    current_time = datetime.datetime.now()\n",
        "    return current_time\n",
        "\n",
        "# Calling the function\n",
        "current_time = get_current_time()\n",
        "print(\"Current Time:\", current_time)\n"
      ],
      "metadata": {
        "colab": {
          "base_uri": "https://localhost:8080/"
        },
        "id": "rbVeyQr5hrYJ",
        "outputId": "90d03395-39c4-47d3-87f2-6059d385043b"
      },
      "execution_count": null,
      "outputs": [
        {
          "output_type": "stream",
          "name": "stdout",
          "text": [
            "Current Time: 2023-07-12 19:16:21.928959\n"
          ]
        }
      ]
    },
    {
      "cell_type": "code",
      "source": [
        "#function to genenerate fibanacci sequence\n",
        "def generate_fibonacci_sequence():\n",
        "    sequence = [0, 1]\n",
        "    while len(sequence) < 10:\n",
        "        next_number = sequence[-1] + sequence[-2]\n",
        "        sequence.append(next_number)\n",
        "    return sequence\n",
        "\n",
        "# Calling the function\n",
        "fibonacci_sequence = generate_fibonacci_sequence()\n",
        "print(\"Fibonacci sequence:\", fibonacci_sequence)\n"
      ],
      "metadata": {
        "colab": {
          "base_uri": "https://localhost:8080/"
        },
        "id": "Pnd-XhcPvBwL",
        "outputId": "f73220dc-b764-42d6-b0be-dedadb5cb4c8"
      },
      "execution_count": null,
      "outputs": [
        {
          "output_type": "stream",
          "name": "stdout",
          "text": [
            "Fibonacci sequence: [0, 1, 1, 2, 3, 5, 8, 13, 21, 34]\n"
          ]
        }
      ]
    },
    {
      "cell_type": "markdown",
      "source": [
        "#Functions with multiple arguments and multiple return values"
      ],
      "metadata": {
        "id": "vgBXGp3rkcCL"
      }
    },
    {
      "cell_type": "code",
      "source": [
        "def calculate_statistics(numbers):\n",
        "    total = sum(numbers)\n",
        "    average = total / len(numbers)\n",
        "    maximum = max(numbers)\n",
        "    minimum = min(numbers)\n",
        "    return total, average, maximum, minimum\n",
        "\n",
        "# Calling the function\n",
        "data = [10, 5, 8, 12, 3]\n",
        "total_sum, avg, max_val, min_val = calculate_statistics(data)\n",
        "print(\"Total Sum:\", total_sum)\n",
        "print(\"Average:\", avg)\n",
        "print(\"Maximum Value:\", max_val)\n",
        "print(\"Minimum Value:\", min_val)\n"
      ],
      "metadata": {
        "colab": {
          "base_uri": "https://localhost:8080/"
        },
        "id": "ivsAq5q3iGtH",
        "outputId": "59b8ce87-3925-4331-b7f0-9d44c96439cc"
      },
      "execution_count": null,
      "outputs": [
        {
          "output_type": "stream",
          "name": "stdout",
          "text": [
            "Total Sum: 38\n",
            "Average: 7.6\n",
            "Maximum Value: 12\n",
            "Minimum Value: 3\n"
          ]
        }
      ]
    },
    {
      "cell_type": "code",
      "source": [
        "#calculate the properties of a rectangle\n",
        "def calculate_rectangle_properties(length, width):\n",
        "    perimeter = 2 * (length + width)\n",
        "    area = length * width\n",
        "    diagonal = (length ** 2 + width ** 2) ** 0.5\n",
        "    return perimeter, area, diagonal\n",
        "\n",
        "# Calling the function\n",
        "length_value = 5\n",
        "width_value = 3\n",
        "perimeter, area, diagonal = calculate_rectangle_properties(length_value, width_value)\n",
        "print(\"Perimeter:\", perimeter)\n",
        "print(\"Area:\", area)\n",
        "print(\"Diagonal:\", diagonal)\n"
      ],
      "metadata": {
        "id": "QFjg5goAxppW"
      },
      "execution_count": null,
      "outputs": []
    },
    {
      "cell_type": "code",
      "source": [
        "#calculate simple interest\n",
        "def simple_interest(principal,time_period,rate):\n",
        "  interest=(principal*time_period*rate)/100\n",
        "  return interest\n",
        "\n",
        "#calling the function\n",
        "s_interest=simple_interest(10000,2,5)\n",
        "print(s_interest)"
      ],
      "metadata": {
        "id": "ejvU-WBgkjgY",
        "colab": {
          "base_uri": "https://localhost:8080/"
        },
        "outputId": "e11d9c00-2b2d-49a5-c311-c06f0d2cd462"
      },
      "execution_count": null,
      "outputs": [
        {
          "output_type": "stream",
          "name": "stdout",
          "text": [
            "1000.0\n"
          ]
        }
      ]
    },
    {
      "cell_type": "code",
      "source": [],
      "metadata": {
        "id": "ogOUIyksyiwM"
      },
      "execution_count": null,
      "outputs": []
    },
    {
      "cell_type": "markdown",
      "source": [
        "#Functions with arbitary arguments"
      ],
      "metadata": {
        "id": "jZ9Zu3lPz_Jk"
      }
    },
    {
      "cell_type": "code",
      "source": [
        "def calculate_sum(*args):\n",
        "    print(args)\n",
        "    total = sum(args)\n",
        "    return total\n",
        "\n",
        "# Accepting user input\n",
        "print('Enter the numbers')\n",
        "numbers = input(\"Enter numbers separated by spaces: \").split()#used to split the input numbers into a list using space as a delimiter\n",
        "numbers = [int(num) for num in numbers]#converting the numbers wich are strings into integers\n",
        "\n",
        "# Calling the function\n",
        "result = calculate_sum(*numbers)\n",
        "print(\"Sum:\", result)\n"
      ],
      "metadata": {
        "colab": {
          "base_uri": "https://localhost:8080/"
        },
        "id": "nP5hMxXf0FXB",
        "outputId": "615290cc-44b0-4b79-c578-43652ca2b42f"
      },
      "execution_count": null,
      "outputs": [
        {
          "output_type": "stream",
          "name": "stdout",
          "text": [
            "Enter the numbers\n",
            "Enter numbers separated by spaces: 1 2 3 4\n",
            "(1, 2, 3, 4)\n",
            "Sum: 10\n"
          ]
        }
      ]
    },
    {
      "cell_type": "markdown",
      "source": [
        "#Function with arbitary keywords"
      ],
      "metadata": {
        "id": "8HClh5AN1QWV"
      }
    },
    {
      "cell_type": "code",
      "source": [
        "def print_person_info(**kwargs):\n",
        "    print(kwargs)\n",
        "    for key, value in kwargs.items():\n",
        "        print(f\"{key}: {value}\")\n",
        "\n",
        "# Calling the function\n",
        "print_person_info(name=\"Alice\", age=25, occupation=\"Engineer\")\n"
      ],
      "metadata": {
        "colab": {
          "base_uri": "https://localhost:8080/"
        },
        "id": "CP-hIFh21ZDF",
        "outputId": "84428309-d9a9-4d3e-ea4f-ddc8965a2f6b"
      },
      "execution_count": null,
      "outputs": [
        {
          "output_type": "stream",
          "name": "stdout",
          "text": [
            "{'name': 'Alice', 'age': 25, 'occupation': 'Engineer'}\n",
            "name: Alice\n",
            "age: 25\n",
            "occupation: Engineer\n"
          ]
        }
      ]
    },
    {
      "cell_type": "code",
      "source": [
        "def student_info(*args,**kwargs):\n",
        "  print(args)\n",
        "  print(type(args))\n",
        "  print(kwargs)\n",
        "\n",
        "courses=['math','english']\n",
        "info={'name':'alex','age':20}\n",
        "student_info(*courses,**info)"
      ],
      "metadata": {
        "colab": {
          "base_uri": "https://localhost:8080/"
        },
        "id": "x1XrXQsoDvZl",
        "outputId": "96e4fdda-1e42-47b6-80e4-d11169ccd061"
      },
      "execution_count": null,
      "outputs": [
        {
          "output_type": "stream",
          "name": "stdout",
          "text": [
            "('math', 'english')\n",
            "<class 'tuple'>\n",
            "{'name': 'alex', 'age': 20}\n"
          ]
        }
      ]
    },
    {
      "cell_type": "markdown",
      "source": [
        "#Global Variable"
      ],
      "metadata": {
        "id": "PFlmp3Rd1RBa"
      }
    },
    {
      "cell_type": "code",
      "source": [
        "# Global variable\n",
        "global_var = 10\n",
        "\n",
        "def access_global_variable():\n",
        "    # Accessing the global variable\n",
        "    print(\"Global variable value:\", global_var)\n",
        "\n",
        "def modify_global_variable():\n",
        "    # Modifying the global variable\n",
        "    global global_var\n",
        "    global_var = 20\n",
        "\n",
        "# Accessing the global variable\n",
        "print(\"Global variable value:\", global_var)\n",
        "\n",
        "# Modifying the global variable\n",
        "modify_global_variable()\n",
        "\n",
        "# Accessing the modified global variable\n",
        "print(\"Modified global variable value:\", global_var)\n",
        "\n",
        "# Calling a function that accesses the global variable\n",
        "access_global_variable()\n"
      ],
      "metadata": {
        "colab": {
          "base_uri": "https://localhost:8080/"
        },
        "id": "GROt4pkk2tUX",
        "outputId": "f19b7f14-b36c-4eae-f2e6-5ee65962c43e"
      },
      "execution_count": null,
      "outputs": [
        {
          "output_type": "stream",
          "name": "stdout",
          "text": [
            "Global variable value: 10\n",
            "Modified global variable value: 20\n",
            "Global variable value: 20\n"
          ]
        }
      ]
    },
    {
      "cell_type": "markdown",
      "source": [
        "#Constants"
      ],
      "metadata": {
        "id": "iwKujTb65NYT"
      }
    },
    {
      "cell_type": "code",
      "source": [
        "# Constants\n",
        "PI = 3.14159\n",
        "MAX_SIZE = 100\n",
        "\n",
        "# Usage of constants\n",
        "radius = 5\n",
        "area = PI * radius ** 2\n",
        "print(\"Area:\", area)\n",
        "\n",
        "if area > MAX_SIZE:\n",
        "    print(\"The area is larger than the maximum size.\")\n",
        "else:\n",
        "    print(\"The area is within the maximum size.\")\n"
      ],
      "metadata": {
        "id": "5tUu_Y2D2t16"
      },
      "execution_count": null,
      "outputs": []
    }
  ]
}