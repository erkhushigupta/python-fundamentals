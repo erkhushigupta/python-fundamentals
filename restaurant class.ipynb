{
 "cells": [
  {
   "cell_type": "code",
   "execution_count": 6,
   "metadata": {},
   "outputs": [
    {
     "name": "stdout",
     "output_type": "stream",
     "text": [
      "Restaurant Name: Italian Foods\n",
      "Cuisine Type: Italian\n",
      "Restaurant Name: Italian Foods\n",
      "Cuisine Type: Italian\n",
      "The restaurant Italian Foods is now open.\n"
     ]
    }
   ],
   "source": [
    "#Q9.1,pg-199=Make a class called Restaurant. The __init__() method for Restaurant should store two attributes: a restaurant_name and a cuisine_type.\n",
    "#Make a method called describe_restaurant() that prints these two pieces ofinformation, and a method called open_restaurant() \n",
    "#that prints a message indicating that the restaurant is open.\n",
    "#Make an instance called restaurant from your class. Print the two attributes individually, and then call both methods.\n",
    "\n",
    "#code\n",
    "\n",
    "\n",
    "class Restaurant:\n",
    "#defining the Restaurant class with an __init__() method that takes 2 parameters,initializing them (corresponding attributes)\n",
    "    def __init__(self, restaurant_name, cuisine_type):\n",
    "        self.restaurant_name = restaurant_name\n",
    "        self.cuisine_type = cuisine_type\n",
    "#printing the described statements\n",
    "    def describe_restaurant(self):\n",
    "        print(f\"Restaurant Name: {self.restaurant_name}\")\n",
    "        print(f\"Cuisine Type: {self.cuisine_type}\")\n",
    "\n",
    "    def open_restaurant(self):\n",
    "        print(f\"The restaurant {self.restaurant_name} is now open.\")\n",
    "\n",
    "\n",
    "# I Created an instance of the Restaurant class\n",
    "restaurant = Restaurant(\"Italian Foods\", \"Italian\")\n",
    "\n",
    "# Now Printing the attributes individually\n",
    "print(\"Restaurant Name:\", restaurant.restaurant_name)\n",
    "print(\"Cuisine Type:\", restaurant.cuisine_type)\n",
    "\n",
    "# Now finally Calling both methods\n",
    "restaurant.describe_restaurant()\n",
    "restaurant.open_restaurant()\n"
   ]
  }
 ],
 "metadata": {
  "kernelspec": {
   "display_name": "Python 3",
   "language": "python",
   "name": "python3"
  },
  "language_info": {
   "codemirror_mode": {
    "name": "ipython",
    "version": 3
   },
   "file_extension": ".py",
   "mimetype": "text/x-python",
   "name": "python",
   "nbconvert_exporter": "python",
   "pygments_lexer": "ipython3",
   "version": "3.10.6"
  },
  "orig_nbformat": 4
 },
 "nbformat": 4,
 "nbformat_minor": 2
}
